{
  "nbformat": 4,
  "nbformat_minor": 0,
  "metadata": {
    "colab": {
      "name": "hackerton.ipynb",
      "provenance": [],
      "collapsed_sections": []
    },
    "kernelspec": {
      "name": "python3",
      "display_name": "Python 3"
    },
    "language_info": {
      "name": "python"
    },
    "accelerator": "GPU",
    "gpuClass": "standard"
  },
  "cells": [
    {
      "cell_type": "code",
      "execution_count": null,
      "metadata": {
        "colab": {
          "base_uri": "https://localhost:8080/"
        },
        "id": "rWLvtd-HCtfv",
        "outputId": "980204f5-6622-4f73-ee86-16a58561b88e"
      },
      "outputs": [
        {
          "output_type": "stream",
          "name": "stdout",
          "text": [
            "Looking in indexes: https://pypi.org/simple, https://us-python.pkg.dev/colab-wheels/public/simple/\n",
            "Requirement already satisfied: folium in /usr/local/lib/python3.7/dist-packages (0.12.1.post1)\n",
            "Requirement already satisfied: branca>=0.3.0 in /usr/local/lib/python3.7/dist-packages (from folium) (0.5.0)\n",
            "Requirement already satisfied: jinja2>=2.9 in /usr/local/lib/python3.7/dist-packages (from folium) (2.11.3)\n",
            "Requirement already satisfied: numpy in /usr/local/lib/python3.7/dist-packages (from folium) (1.21.6)\n",
            "Requirement already satisfied: requests in /usr/local/lib/python3.7/dist-packages (from folium) (2.23.0)\n",
            "Requirement already satisfied: MarkupSafe>=0.23 in /usr/local/lib/python3.7/dist-packages (from jinja2>=2.9->folium) (2.0.1)\n",
            "Requirement already satisfied: urllib3!=1.25.0,!=1.25.1,<1.26,>=1.21.1 in /usr/local/lib/python3.7/dist-packages (from requests->folium) (1.24.3)\n",
            "Requirement already satisfied: certifi>=2017.4.17 in /usr/local/lib/python3.7/dist-packages (from requests->folium) (2022.6.15)\n",
            "Requirement already satisfied: chardet<4,>=3.0.2 in /usr/local/lib/python3.7/dist-packages (from requests->folium) (3.0.4)\n",
            "Requirement already satisfied: idna<3,>=2.5 in /usr/local/lib/python3.7/dist-packages (from requests->folium) (2.10)\n",
            "\u001b[31mERROR: Operation cancelled by user\u001b[0m\n",
            "Traceback (most recent call last):\n",
            "  File \"/usr/local/lib/python3.7/dist-packages/pip/_vendor/pkg_resources/__init__.py\", line 3021, in _dep_map\n",
            "    return self.__dep_map\n",
            "  File \"/usr/local/lib/python3.7/dist-packages/pip/_vendor/pkg_resources/__init__.py\", line 2815, in __getattr__\n",
            "    raise AttributeError(attr)\n",
            "AttributeError: _DistInfoDistribution__dep_map\n",
            "\n",
            "During handling of the above exception, another exception occurred:\n",
            "\n",
            "Traceback (most recent call last):\n",
            "  File \"/usr/local/lib/python3.7/dist-packages/pip/_internal/cli/base_command.py\", line 180, in _main\n",
            "    status = self.run(options, args)\n",
            "  File \"/usr/local/lib/python3.7/dist-packages/pip/_internal/cli/req_command.py\", line 199, in wrapper\n",
            "    return func(self, options, args)\n",
            "  File \"/usr/local/lib/python3.7/dist-packages/pip/_internal/commands/install.py\", line 385, in run\n",
            "    conflicts = self._determine_conflicts(to_install)\n",
            "  File \"/usr/local/lib/python3.7/dist-packages/pip/_internal/commands/install.py\", line 515, in _determine_conflicts\n",
            "    return check_install_conflicts(to_install)\n",
            "  File \"/usr/local/lib/python3.7/dist-packages/pip/_internal/operations/check.py\", line 103, in check_install_conflicts\n",
            "    package_set, _ = create_package_set_from_installed()\n",
            "  File \"/usr/local/lib/python3.7/dist-packages/pip/_internal/operations/check.py\", line 45, in create_package_set_from_installed\n",
            "    package_set[name] = PackageDetails(dist.version, dist.requires())\n",
            "  File \"/usr/local/lib/python3.7/dist-packages/pip/_vendor/pkg_resources/__init__.py\", line 2736, in requires\n",
            "    dm = self._dep_map\n",
            "  File \"/usr/local/lib/python3.7/dist-packages/pip/_vendor/pkg_resources/__init__.py\", line 3023, in _dep_map\n",
            "    self.__dep_map = self._compute_dependencies()\n",
            "  File \"/usr/local/lib/python3.7/dist-packages/pip/_vendor/pkg_resources/__init__.py\", line 3045, in _compute_dependencies\n",
            "    dm[s_extra] = list(frozenset(reqs_for_extra(extra)) - common)\n",
            "  File \"/usr/local/lib/python3.7/dist-packages/pip/_vendor/pkg_resources/__init__.py\", line 3037, in reqs_for_extra\n",
            "    if not req.marker or req.marker.evaluate({'extra': extra}):\n",
            "  File \"/usr/local/lib/python3.7/dist-packages/pip/_vendor/packaging/markers.py\", line 336, in evaluate\n",
            "    return _evaluate_markers(self._markers, current_environment)\n",
            "KeyboardInterrupt\n",
            "\n",
            "During handling of the above exception, another exception occurred:\n",
            "\n",
            "Traceback (most recent call last):\n",
            "  File \"/usr/local/bin/pip3\", line 8, in <module>\n",
            "    sys.exit(main())\n",
            "  File \"/usr/local/lib/python3.7/dist-packages/pip/_internal/cli/main.py\", line 71, in main\n",
            "    return command.main(cmd_args)\n",
            "  File \"/usr/local/lib/python3.7/dist-packages/pip/_internal/cli/base_command.py\", line 104, in main\n",
            "    return self._main(args)\n",
            "  File \"/usr/local/lib/python3.7/dist-packages/pip/_internal/cli/base_command.py\", line 213, in _main\n",
            "    logger.debug(\"Exception information:\", exc_info=True)\n",
            "  File \"/usr/lib/python3.7/logging/__init__.py\", line 1366, in debug\n",
            "    self._log(DEBUG, msg, args, **kwargs)\n",
            "  File \"/usr/lib/python3.7/logging/__init__.py\", line 1514, in _log\n",
            "    self.handle(record)\n",
            "  File \"/usr/lib/python3.7/logging/__init__.py\", line 1524, in handle\n",
            "    self.callHandlers(record)\n",
            "  File \"/usr/lib/python3.7/logging/__init__.py\", line 1586, in callHandlers\n",
            "    hdlr.handle(record)\n",
            "  File \"/usr/lib/python3.7/logging/__init__.py\", line 894, in handle\n",
            "    self.emit(record)\n",
            "  File \"/usr/lib/python3.7/logging/handlers.py\", line 71, in emit\n",
            "    logging.FileHandler.emit(self, record)\n",
            "  File \"/usr/lib/python3.7/logging/__init__.py\", line 1127, in emit\n",
            "    StreamHandler.emit(self, record)\n",
            "  File \"/usr/lib/python3.7/logging/__init__.py\", line 1025, in emit\n",
            "    msg = self.format(record)\n",
            "  File \"/usr/lib/python3.7/logging/__init__.py\", line 869, in format\n",
            "    return fmt.format(record)\n",
            "  File \"/usr/local/lib/python3.7/dist-packages/pip/_internal/utils/logging.py\", line 130, in format\n",
            "    formatted = super().format(record)\n",
            "  File \"/usr/lib/python3.7/logging/__init__.py\", line 616, in format\n",
            "    record.exc_text = self.formatException(record.exc_info)\n",
            "  File \"/usr/lib/python3.7/logging/__init__.py\", line 566, in formatException\n",
            "    traceback.print_exception(ei[0], ei[1], tb, None, sio)\n",
            "  File \"/usr/lib/python3.7/traceback.py\", line 104, in print_exception\n",
            "    type(value), value, tb, limit=limit).format(chain=chain):\n",
            "  File \"/usr/lib/python3.7/traceback.py\", line 508, in __init__\n",
            "    capture_locals=capture_locals)\n",
            "  File \"/usr/lib/python3.7/traceback.py\", line 363, in extract\n",
            "    f.line\n",
            "  File \"/usr/lib/python3.7/traceback.py\", line 285, in line\n",
            "    self._line = linecache.getline(self.filename, self.lineno).strip()\n",
            "  File \"/usr/lib/python3.7/linecache.py\", line 16, in getline\n",
            "    lines = getlines(filename, module_globals)\n",
            "  File \"/usr/lib/python3.7/linecache.py\", line 47, in getlines\n",
            "    return updatecache(filename, module_globals)\n",
            "  File \"/usr/lib/python3.7/linecache.py\", line 136, in updatecache\n",
            "    with tokenize.open(fullname) as fp:\n",
            "  File \"/usr/lib/python3.7/tokenize.py\", line 449, in open\n",
            "    encoding, lines = detect_encoding(buffer.readline)\n",
            "  File \"/usr/lib/python3.7/tokenize.py\", line 418, in detect_encoding\n",
            "    first = read_or_stop()\n",
            "  File \"/usr/lib/python3.7/tokenize.py\", line 376, in read_or_stop\n",
            "    return readline()\n",
            "KeyboardInterrupt\n"
          ]
        }
      ],
      "source": [
        "pip install folium"
      ]
    },
    {
      "cell_type": "code",
      "source": [
        "import folium\n",
        "center = [37.30,130.52]\n",
        "m = folium.Map(location = center, zoom_start = 10)\n",
        "# f = folium.Marker([37.504,130.8608])\n",
        "# f.add_to(m)\n",
        "m"
      ],
      "metadata": {
        "colab": {
          "base_uri": "https://localhost:8080/",
          "height": 531
        },
        "id": "OfiqJ6xKDFAO",
        "outputId": "dd9aeacd-97ca-4782-804a-4c168dbcd357"
      },
      "execution_count": 43,
      "outputs": [
        {
          "output_type": "execute_result",
          "data": {
            "text/plain": [
              "<folium.folium.Map at 0x7f197a479c50>"
            ],
            "text/html": [
              "<div style=\"width:100%;\"><div style=\"position:relative;width:100%;height:0;padding-bottom:60%;\"><span style=\"color:#565656\">Make this Notebook Trusted to load map: File -> Trust Notebook</span><iframe srcdoc=\"&lt;!DOCTYPE html&gt;\n",
              "&lt;head&gt;    \n",
              "    &lt;meta http-equiv=&quot;content-type&quot; content=&quot;text/html; charset=UTF-8&quot; /&gt;\n",
              "    \n",
              "        &lt;script&gt;\n",
              "            L_NO_TOUCH = false;\n",
              "            L_DISABLE_3D = false;\n",
              "        &lt;/script&gt;\n",
              "    \n",
              "    &lt;style&gt;html, body {width: 100%;height: 100%;margin: 0;padding: 0;}&lt;/style&gt;\n",
              "    &lt;style&gt;#map {position:absolute;top:0;bottom:0;right:0;left:0;}&lt;/style&gt;\n",
              "    &lt;script src=&quot;https://cdn.jsdelivr.net/npm/leaflet@1.6.0/dist/leaflet.js&quot;&gt;&lt;/script&gt;\n",
              "    &lt;script src=&quot;https://code.jquery.com/jquery-1.12.4.min.js&quot;&gt;&lt;/script&gt;\n",
              "    &lt;script src=&quot;https://maxcdn.bootstrapcdn.com/bootstrap/3.2.0/js/bootstrap.min.js&quot;&gt;&lt;/script&gt;\n",
              "    &lt;script src=&quot;https://cdnjs.cloudflare.com/ajax/libs/Leaflet.awesome-markers/2.0.2/leaflet.awesome-markers.js&quot;&gt;&lt;/script&gt;\n",
              "    &lt;link rel=&quot;stylesheet&quot; href=&quot;https://cdn.jsdelivr.net/npm/leaflet@1.6.0/dist/leaflet.css&quot;/&gt;\n",
              "    &lt;link rel=&quot;stylesheet&quot; href=&quot;https://maxcdn.bootstrapcdn.com/bootstrap/3.2.0/css/bootstrap.min.css&quot;/&gt;\n",
              "    &lt;link rel=&quot;stylesheet&quot; href=&quot;https://maxcdn.bootstrapcdn.com/bootstrap/3.2.0/css/bootstrap-theme.min.css&quot;/&gt;\n",
              "    &lt;link rel=&quot;stylesheet&quot; href=&quot;https://maxcdn.bootstrapcdn.com/font-awesome/4.6.3/css/font-awesome.min.css&quot;/&gt;\n",
              "    &lt;link rel=&quot;stylesheet&quot; href=&quot;https://cdnjs.cloudflare.com/ajax/libs/Leaflet.awesome-markers/2.0.2/leaflet.awesome-markers.css&quot;/&gt;\n",
              "    &lt;link rel=&quot;stylesheet&quot; href=&quot;https://cdn.jsdelivr.net/gh/python-visualization/folium/folium/templates/leaflet.awesome.rotate.min.css&quot;/&gt;\n",
              "    \n",
              "            &lt;meta name=&quot;viewport&quot; content=&quot;width=device-width,\n",
              "                initial-scale=1.0, maximum-scale=1.0, user-scalable=no&quot; /&gt;\n",
              "            &lt;style&gt;\n",
              "                #map_c6a1cf8b8b08502cd256c6c702fbc882 {\n",
              "                    position: relative;\n",
              "                    width: 100.0%;\n",
              "                    height: 100.0%;\n",
              "                    left: 0.0%;\n",
              "                    top: 0.0%;\n",
              "                }\n",
              "            &lt;/style&gt;\n",
              "        \n",
              "&lt;/head&gt;\n",
              "&lt;body&gt;    \n",
              "    \n",
              "            &lt;div class=&quot;folium-map&quot; id=&quot;map_c6a1cf8b8b08502cd256c6c702fbc882&quot; &gt;&lt;/div&gt;\n",
              "        \n",
              "&lt;/body&gt;\n",
              "&lt;script&gt;    \n",
              "    \n",
              "            var map_c6a1cf8b8b08502cd256c6c702fbc882 = L.map(\n",
              "                &quot;map_c6a1cf8b8b08502cd256c6c702fbc882&quot;,\n",
              "                {\n",
              "                    center: [37.3, 130.52],\n",
              "                    crs: L.CRS.EPSG3857,\n",
              "                    zoom: 10,\n",
              "                    zoomControl: true,\n",
              "                    preferCanvas: false,\n",
              "                }\n",
              "            );\n",
              "\n",
              "            \n",
              "\n",
              "        \n",
              "    \n",
              "            var tile_layer_9415caa75af0302322d91e7bc261a729 = L.tileLayer(\n",
              "                &quot;https://{s}.tile.openstreetmap.org/{z}/{x}/{y}.png&quot;,\n",
              "                {&quot;attribution&quot;: &quot;Data by \\u0026copy; \\u003ca href=\\&quot;http://openstreetmap.org\\&quot;\\u003eOpenStreetMap\\u003c/a\\u003e, under \\u003ca href=\\&quot;http://www.openstreetmap.org/copyright\\&quot;\\u003eODbL\\u003c/a\\u003e.&quot;, &quot;detectRetina&quot;: false, &quot;maxNativeZoom&quot;: 18, &quot;maxZoom&quot;: 18, &quot;minZoom&quot;: 0, &quot;noWrap&quot;: false, &quot;opacity&quot;: 1, &quot;subdomains&quot;: &quot;abc&quot;, &quot;tms&quot;: false}\n",
              "            ).addTo(map_c6a1cf8b8b08502cd256c6c702fbc882);\n",
              "        \n",
              "&lt;/script&gt;\" style=\"position:absolute;width:100%;height:100%;left:0;top:0;border:none !important;\" allowfullscreen webkitallowfullscreen mozallowfullscreen></iframe></div></div>"
            ]
          },
          "metadata": {},
          "execution_count": 43
        }
      ]
    },
    {
      "cell_type": "code",
      "source": [
        "import torch\n",
        "import torch.nn as nn\n",
        "from torch.utils.data import TensorDataset, DataLoader , Subset , random_split\n",
        "import json\n",
        "import xlrd\n",
        "import os\n",
        "import pandas as pd\n",
        "import matplotlib.pyplot as plt\n",
        "from torch.autograd import Variable"
      ],
      "metadata": {
        "id": "5QDJYmnEIh5j"
      },
      "execution_count": 3,
      "outputs": []
    },
    {
      "cell_type": "code",
      "source": [
        "device = torch.device('cuda' if torch.cuda.is_available else 'cpu')\n",
        "print('device : ', device)"
      ],
      "metadata": {
        "colab": {
          "base_uri": "https://localhost:8080/"
        },
        "id": "otRRkJrfI8pe",
        "outputId": "294ee054-34da-44dd-8ea2-1c04f0df48d0"
      },
      "execution_count": 4,
      "outputs": [
        {
          "output_type": "stream",
          "name": "stdout",
          "text": [
            "device :  cuda\n"
          ]
        }
      ]
    },
    {
      "cell_type": "code",
      "source": [
        "class LSTM1(nn.Module):\n",
        "  def __init__(self,num_classes,input_size,hidden_size,num_layers,seq_length):\n",
        "    super(LSTM1,self).__init__()\n",
        "    self.num_classes = num_classes\n",
        "    self.num_layers = num_layers\n",
        "    self.input_size = input_size\n",
        "    self.hidden_size = hidden_size\n",
        "    self.seq_length = seq_length\n",
        "\n",
        "    self.lstm = nn.LSTM(input_size = input_size , hidden_size = hidden_size , num_layers = num_layers, batch_first = True)\n",
        "    self.fc_1 = nn.Linear(hidden_size,128)\n",
        "    self.fc = nn.Linear(128,num_classes)\n",
        "\n",
        "    self.relu = nn.ReLU()\n",
        "\n",
        "  def forward(self,x):\n",
        "    h_0 = Variable(torch.zeros(self.num_layers, x.size(0),self.hidden_size)).to(device)\n",
        "    c_0 = Variable(torch.zeros(self.num_layers, x.size(0),self.hidden_size)).to(device)\n",
        "\n",
        "    output, (hn,cn) = self.lstm(x,(h_0,c_0))\n",
        "\n",
        "    hn = hn.view(-1,self.hidden_size)\n",
        "    out = self.relu(hn)\n",
        "    out = self.fc_1(out)\n",
        "    out = self.relu(out)\n",
        "    out = self.fc(out)\n",
        "    return out\n"
      ],
      "metadata": {
        "id": "VnqoKLuNJRlm"
      },
      "execution_count": 5,
      "outputs": []
    },
    {
      "cell_type": "code",
      "source": [
        "xlsx_path = 'test.xlsx'\n",
        "xlsx_path_1 = 'test1.xlsx'"
      ],
      "metadata": {
        "id": "Q59ZRDrqPBn3"
      },
      "execution_count": 49,
      "outputs": []
    },
    {
      "cell_type": "code",
      "source": [
        "def xlsx_to_list(path):\n",
        "  excel_path = path\n",
        "  wb = xlrd.open_workbook(excel_path)\n",
        "  sh = wb.sheet_by_index(0)\n",
        "  \n",
        "  data_list = []\n",
        "  for rownum in range(0,sh.nrows):\n",
        "    data = []\n",
        "    row_values = sh.row_values(rownum)\n",
        "    data.append(row_values[1])\n",
        "    data.append(row_values[0])\n",
        "    data.append(row_values[2])\n",
        "    data_list.append(data)\n",
        "  return data_list\n",
        "\n",
        "def xlsx1_to_list(path):\n",
        "  excel_path = path\n",
        "  wb = xlrd.open_workbook(excel_path)\n",
        "  sh = wb.sheet_by_index(0)\n",
        "  \n",
        "  data_list = []\n",
        "  for rownum in range(0,sh.nrows):\n",
        "    data = []\n",
        "    row_values = sh.row_values(rownum)\n",
        "    data.append(row_values[1])\n",
        "    data.append(row_values[0])\n",
        "    data_list.append(data)\n",
        "  return data_list"
      ],
      "metadata": {
        "id": "A_aZY_nXRfWi"
      },
      "execution_count": 47,
      "outputs": []
    },
    {
      "cell_type": "code",
      "source": [
        "data = xlsx_to_list(xlsx_path)\n",
        "data1 = xlsx1_to_list(xlsx_path_1)\n",
        "print(data)\n",
        "print(data1)"
      ],
      "metadata": {
        "colab": {
          "base_uri": "https://localhost:8080/"
        },
        "id": "zSEbdYxjSLM6",
        "outputId": "ff7c6559-cb44-4bf8-873e-595f4b811402"
      },
      "execution_count": 50,
      "outputs": [
        {
          "output_type": "stream",
          "name": "stdout",
          "text": [
            "[[37.5, 130.8, 1.0], [37.6, 130.9, 2.0], [37.7, 131.0, 3.0], [37.8, 131.1, 4.0], [37.9, 131.2, 5.0], [38.0, 131.3, 6.0], [38.2, 131.0, 7.0], [37.9, 130.5, 8.0], [37.5, 130.0, 9.0], [37.3, 129.8, 10.0], [38.0, 131.0, 11.0], [39.0, 132.0, 12.0], [41.0, 133.0, 13.0], [40.0, 131.0, 14.0], [39.0, 130.5, 15.0], [39.2, 131.0, 16.0], [39.7, 131.5, 17.0], [40.0, 131.9, 18.0], [40.5, 132.5, 19.0], [40.9, 133.0, 20.0], [41.0, 134.0, 21.0], [40.6, 133.0, 22.0], [40.9, 133.0, 23.0], [40.3, 132.0, 24.0], [40.1, 133.0, 25.0], [39.8, 132.0, 26.0], [39.3, 131.0, 27.0], [39.0, 130.0, 28.0], [38.0, 129.0, 29.0], [37.0, 130.0, 30.0]]\n",
            "[[37.5, 130.8], [37.6, 130.9], [37.7, 131.0], [37.8, 131.1], [37.9, 131.2], [38.0, 131.3], [38.2, 131.0], [37.9, 130.5], [37.5, 130.0], [37.3, 129.8], [38.0, 131.0], [39.0, 132.0], [41.0, 133.0], [40.0, 131.0], [39.0, 130.5], [39.2, 131.0], [39.7, 131.5], [40.0, 131.9], [40.5, 132.5], [40.9, 133.0], [41.0, 134.0], [40.6, 133.0], [40.9, 133.0], [40.3, 132.0], [40.1, 133.0], [39.8, 132.0], [39.3, 131.0], [39.0, 130.0], [38.0, 129.0], [37.0, 130.0]]\n"
          ]
        }
      ]
    },
    {
      "cell_type": "code",
      "source": [
        "df = pd.DataFrame(data)\n",
        "df1 = pd.DataFrame(data1)\n",
        "y = df.iloc[:,0:2]\n",
        "print(df)\n",
        "print(df1)\n",
        "print(y)"
      ],
      "metadata": {
        "colab": {
          "base_uri": "https://localhost:8080/"
        },
        "id": "7zcCfF_TTRF-",
        "outputId": "9349b797-6821-431b-def1-051b3f7a0fd9"
      },
      "execution_count": 51,
      "outputs": [
        {
          "output_type": "stream",
          "name": "stdout",
          "text": [
            "       0      1     2\n",
            "0   37.5  130.8   1.0\n",
            "1   37.6  130.9   2.0\n",
            "2   37.7  131.0   3.0\n",
            "3   37.8  131.1   4.0\n",
            "4   37.9  131.2   5.0\n",
            "5   38.0  131.3   6.0\n",
            "6   38.2  131.0   7.0\n",
            "7   37.9  130.5   8.0\n",
            "8   37.5  130.0   9.0\n",
            "9   37.3  129.8  10.0\n",
            "10  38.0  131.0  11.0\n",
            "11  39.0  132.0  12.0\n",
            "12  41.0  133.0  13.0\n",
            "13  40.0  131.0  14.0\n",
            "14  39.0  130.5  15.0\n",
            "15  39.2  131.0  16.0\n",
            "16  39.7  131.5  17.0\n",
            "17  40.0  131.9  18.0\n",
            "18  40.5  132.5  19.0\n",
            "19  40.9  133.0  20.0\n",
            "20  41.0  134.0  21.0\n",
            "21  40.6  133.0  22.0\n",
            "22  40.9  133.0  23.0\n",
            "23  40.3  132.0  24.0\n",
            "24  40.1  133.0  25.0\n",
            "25  39.8  132.0  26.0\n",
            "26  39.3  131.0  27.0\n",
            "27  39.0  130.0  28.0\n",
            "28  38.0  129.0  29.0\n",
            "29  37.0  130.0  30.0\n",
            "       0      1\n",
            "0   37.5  130.8\n",
            "1   37.6  130.9\n",
            "2   37.7  131.0\n",
            "3   37.8  131.1\n",
            "4   37.9  131.2\n",
            "5   38.0  131.3\n",
            "6   38.2  131.0\n",
            "7   37.9  130.5\n",
            "8   37.5  130.0\n",
            "9   37.3  129.8\n",
            "10  38.0  131.0\n",
            "11  39.0  132.0\n",
            "12  41.0  133.0\n",
            "13  40.0  131.0\n",
            "14  39.0  130.5\n",
            "15  39.2  131.0\n",
            "16  39.7  131.5\n",
            "17  40.0  131.9\n",
            "18  40.5  132.5\n",
            "19  40.9  133.0\n",
            "20  41.0  134.0\n",
            "21  40.6  133.0\n",
            "22  40.9  133.0\n",
            "23  40.3  132.0\n",
            "24  40.1  133.0\n",
            "25  39.8  132.0\n",
            "26  39.3  131.0\n",
            "27  39.0  130.0\n",
            "28  38.0  129.0\n",
            "29  37.0  130.0\n",
            "       0      1\n",
            "0   37.5  130.8\n",
            "1   37.6  130.9\n",
            "2   37.7  131.0\n",
            "3   37.8  131.1\n",
            "4   37.9  131.2\n",
            "5   38.0  131.3\n",
            "6   38.2  131.0\n",
            "7   37.9  130.5\n",
            "8   37.5  130.0\n",
            "9   37.3  129.8\n",
            "10  38.0  131.0\n",
            "11  39.0  132.0\n",
            "12  41.0  133.0\n",
            "13  40.0  131.0\n",
            "14  39.0  130.5\n",
            "15  39.2  131.0\n",
            "16  39.7  131.5\n",
            "17  40.0  131.9\n",
            "18  40.5  132.5\n",
            "19  40.9  133.0\n",
            "20  41.0  134.0\n",
            "21  40.6  133.0\n",
            "22  40.9  133.0\n",
            "23  40.3  132.0\n",
            "24  40.1  133.0\n",
            "25  39.8  132.0\n",
            "26  39.3  131.0\n",
            "27  39.0  130.0\n",
            "28  38.0  129.0\n",
            "29  37.0  130.0\n"
          ]
        }
      ]
    },
    {
      "cell_type": "code",
      "source": [
        "f_data = []\n",
        "for i in data:\n",
        "  f_data.append([i[0],i[1]])\n",
        "f = folium.PolyLine(locations = f_data,tooltip = 'Actual Trajectory')\n",
        "f.add_to(m)\n",
        "m"
      ],
      "metadata": {
        "colab": {
          "base_uri": "https://localhost:8080/",
          "height": 531
        },
        "id": "RkENHOYYVGjz",
        "outputId": "df390a77-7c16-45d6-fa78-95089375c229"
      },
      "execution_count": 45,
      "outputs": [
        {
          "output_type": "execute_result",
          "data": {
            "text/plain": [
              "<folium.folium.Map at 0x7f197a479c50>"
            ],
            "text/html": [
              "<div style=\"width:100%;\"><div style=\"position:relative;width:100%;height:0;padding-bottom:60%;\"><span style=\"color:#565656\">Make this Notebook Trusted to load map: File -> Trust Notebook</span><iframe srcdoc=\"&lt;!DOCTYPE html&gt;\n",
              "&lt;head&gt;    \n",
              "    &lt;meta http-equiv=&quot;content-type&quot; content=&quot;text/html; charset=UTF-8&quot; /&gt;\n",
              "    \n",
              "        &lt;script&gt;\n",
              "            L_NO_TOUCH = false;\n",
              "            L_DISABLE_3D = false;\n",
              "        &lt;/script&gt;\n",
              "    \n",
              "    &lt;style&gt;html, body {width: 100%;height: 100%;margin: 0;padding: 0;}&lt;/style&gt;\n",
              "    &lt;style&gt;#map {position:absolute;top:0;bottom:0;right:0;left:0;}&lt;/style&gt;\n",
              "    &lt;script src=&quot;https://cdn.jsdelivr.net/npm/leaflet@1.6.0/dist/leaflet.js&quot;&gt;&lt;/script&gt;\n",
              "    &lt;script src=&quot;https://code.jquery.com/jquery-1.12.4.min.js&quot;&gt;&lt;/script&gt;\n",
              "    &lt;script src=&quot;https://maxcdn.bootstrapcdn.com/bootstrap/3.2.0/js/bootstrap.min.js&quot;&gt;&lt;/script&gt;\n",
              "    &lt;script src=&quot;https://cdnjs.cloudflare.com/ajax/libs/Leaflet.awesome-markers/2.0.2/leaflet.awesome-markers.js&quot;&gt;&lt;/script&gt;\n",
              "    &lt;link rel=&quot;stylesheet&quot; href=&quot;https://cdn.jsdelivr.net/npm/leaflet@1.6.0/dist/leaflet.css&quot;/&gt;\n",
              "    &lt;link rel=&quot;stylesheet&quot; href=&quot;https://maxcdn.bootstrapcdn.com/bootstrap/3.2.0/css/bootstrap.min.css&quot;/&gt;\n",
              "    &lt;link rel=&quot;stylesheet&quot; href=&quot;https://maxcdn.bootstrapcdn.com/bootstrap/3.2.0/css/bootstrap-theme.min.css&quot;/&gt;\n",
              "    &lt;link rel=&quot;stylesheet&quot; href=&quot;https://maxcdn.bootstrapcdn.com/font-awesome/4.6.3/css/font-awesome.min.css&quot;/&gt;\n",
              "    &lt;link rel=&quot;stylesheet&quot; href=&quot;https://cdnjs.cloudflare.com/ajax/libs/Leaflet.awesome-markers/2.0.2/leaflet.awesome-markers.css&quot;/&gt;\n",
              "    &lt;link rel=&quot;stylesheet&quot; href=&quot;https://cdn.jsdelivr.net/gh/python-visualization/folium/folium/templates/leaflet.awesome.rotate.min.css&quot;/&gt;\n",
              "    \n",
              "            &lt;meta name=&quot;viewport&quot; content=&quot;width=device-width,\n",
              "                initial-scale=1.0, maximum-scale=1.0, user-scalable=no&quot; /&gt;\n",
              "            &lt;style&gt;\n",
              "                #map_c6a1cf8b8b08502cd256c6c702fbc882 {\n",
              "                    position: relative;\n",
              "                    width: 100.0%;\n",
              "                    height: 100.0%;\n",
              "                    left: 0.0%;\n",
              "                    top: 0.0%;\n",
              "                }\n",
              "            &lt;/style&gt;\n",
              "        \n",
              "&lt;/head&gt;\n",
              "&lt;body&gt;    \n",
              "    \n",
              "            &lt;div class=&quot;folium-map&quot; id=&quot;map_c6a1cf8b8b08502cd256c6c702fbc882&quot; &gt;&lt;/div&gt;\n",
              "        \n",
              "&lt;/body&gt;\n",
              "&lt;script&gt;    \n",
              "    \n",
              "            var map_c6a1cf8b8b08502cd256c6c702fbc882 = L.map(\n",
              "                &quot;map_c6a1cf8b8b08502cd256c6c702fbc882&quot;,\n",
              "                {\n",
              "                    center: [37.3, 130.52],\n",
              "                    crs: L.CRS.EPSG3857,\n",
              "                    zoom: 10,\n",
              "                    zoomControl: true,\n",
              "                    preferCanvas: false,\n",
              "                }\n",
              "            );\n",
              "\n",
              "            \n",
              "\n",
              "        \n",
              "    \n",
              "            var tile_layer_9415caa75af0302322d91e7bc261a729 = L.tileLayer(\n",
              "                &quot;https://{s}.tile.openstreetmap.org/{z}/{x}/{y}.png&quot;,\n",
              "                {&quot;attribution&quot;: &quot;Data by \\u0026copy; \\u003ca href=\\&quot;http://openstreetmap.org\\&quot;\\u003eOpenStreetMap\\u003c/a\\u003e, under \\u003ca href=\\&quot;http://www.openstreetmap.org/copyright\\&quot;\\u003eODbL\\u003c/a\\u003e.&quot;, &quot;detectRetina&quot;: false, &quot;maxNativeZoom&quot;: 18, &quot;maxZoom&quot;: 18, &quot;minZoom&quot;: 0, &quot;noWrap&quot;: false, &quot;opacity&quot;: 1, &quot;subdomains&quot;: &quot;abc&quot;, &quot;tms&quot;: false}\n",
              "            ).addTo(map_c6a1cf8b8b08502cd256c6c702fbc882);\n",
              "        \n",
              "    \n",
              "            var poly_line_acce11afa475ca350dfb067a0d771d61 = L.polyline(\n",
              "                [[38.0682258605957, 130.9042205810547], [38.11663055419922, 130.94677734375], [38.17304611206055, 130.99513244628906], [38.23795700073242, 131.04937744140625], [38.31178283691406, 131.10955810546875], [38.394866943359375, 131.17564392089844], [38.353538513183594, 131.02398681640625], [37.844146728515625, 130.40333557128906], [37.409629821777344, 129.8820037841797], [37.30573272705078, 129.6990203857422], [38.25886917114258, 130.75741577148438], [39.47105407714844, 132.05828857421875], [40.11649703979492, 132.53416442871094], [40.038734436035156, 132.361328125], [38.8235969543457, 130.82408142089844], [39.285682678222656, 131.38327026367188], [39.87624740600586, 132.14785766601562], [40.1500358581543, 132.50794982910156], [40.19456100463867, 132.56788635253906], [40.19456100463867, 132.56788635253906], [40.19456100463867, 132.56788635253906], [40.19456100463867, 132.56788635253906], [40.19456100463867, 132.56788635253906], [40.06443405151367, 132.39508056640625], [40.17889404296875, 132.54681396484375], [39.77685546875, 132.01817321777344], [38.99822235107422, 131.039306640625], [38.30012130737305, 130.18296813964844], [37.48351287841797, 129.254638671875], [37.798973083496094, 129.59805297851562]],\n",
              "                {&quot;bubblingMouseEvents&quot;: true, &quot;color&quot;: &quot;red&quot;, &quot;dashArray&quot;: null, &quot;dashOffset&quot;: null, &quot;fill&quot;: false, &quot;fillColor&quot;: &quot;red&quot;, &quot;fillOpacity&quot;: 0.2, &quot;fillRule&quot;: &quot;evenodd&quot;, &quot;lineCap&quot;: &quot;round&quot;, &quot;lineJoin&quot;: &quot;round&quot;, &quot;noClip&quot;: false, &quot;opacity&quot;: 1.0, &quot;smoothFactor&quot;: 1.0, &quot;stroke&quot;: true, &quot;weight&quot;: 3}\n",
              "            ).addTo(map_c6a1cf8b8b08502cd256c6c702fbc882);\n",
              "        \n",
              "    \n",
              "            poly_line_acce11afa475ca350dfb067a0d771d61.bindTooltip(\n",
              "                `&lt;div&gt;\n",
              "                     Predicted Trajectory\n",
              "                 &lt;/div&gt;`,\n",
              "                {&quot;sticky&quot;: true}\n",
              "            );\n",
              "        \n",
              "    \n",
              "            var poly_line_74466aa8a896c640b8833dc821c07121 = L.polyline(\n",
              "                [[37.5, 130.8], [37.6, 130.9], [37.7, 131.0], [37.8, 131.1], [37.9, 131.2], [38.0, 131.3], [38.2, 131.0], [37.9, 130.5], [37.5, 130.0], [37.3, 129.8], [38.0, 131.0], [39.0, 132.0], [41.0, 133.0], [40.0, 131.0], [39.0, 130.5], [39.2, 131.0], [39.7, 131.5], [40.0, 131.9], [40.5, 132.5], [40.9, 133.0], [41.0, 134.0], [40.6, 133.0], [40.9, 133.0], [40.3, 132.0], [40.1, 133.0], [39.8, 132.0], [39.3, 131.0], [39.0, 130.0], [38.0, 129.0], [37.0, 130.0]],\n",
              "                {&quot;bubblingMouseEvents&quot;: true, &quot;color&quot;: &quot;#3388ff&quot;, &quot;dashArray&quot;: null, &quot;dashOffset&quot;: null, &quot;fill&quot;: false, &quot;fillColor&quot;: &quot;#3388ff&quot;, &quot;fillOpacity&quot;: 0.2, &quot;fillRule&quot;: &quot;evenodd&quot;, &quot;lineCap&quot;: &quot;round&quot;, &quot;lineJoin&quot;: &quot;round&quot;, &quot;noClip&quot;: false, &quot;opacity&quot;: 1.0, &quot;smoothFactor&quot;: 1.0, &quot;stroke&quot;: true, &quot;weight&quot;: 3}\n",
              "            ).addTo(map_c6a1cf8b8b08502cd256c6c702fbc882);\n",
              "        \n",
              "    \n",
              "            poly_line_74466aa8a896c640b8833dc821c07121.bindTooltip(\n",
              "                `&lt;div&gt;\n",
              "                     Actual Trajectory\n",
              "                 &lt;/div&gt;`,\n",
              "                {&quot;sticky&quot;: true}\n",
              "            );\n",
              "        \n",
              "&lt;/script&gt;\" style=\"position:absolute;width:100%;height:100%;left:0;top:0;border:none !important;\" allowfullscreen webkitallowfullscreen mozallowfullscreen></iframe></div></div>"
            ]
          },
          "metadata": {},
          "execution_count": 45
        }
      ]
    },
    {
      "cell_type": "code",
      "source": [
        "import numpy as np\n",
        "\n",
        "def split_train_test(data,test_ratio):\n",
        "  train_set_size = int(len(data)*(1 - test_ratio))\n",
        "  train_indices = data[:train_set_size]\n",
        "  test_indices = data[train_set_size:]\n",
        "  return train_indices,test_indices\n",
        "\n",
        "train_set,test_set = split_train_test(df.values,0.2)\n",
        "print(train_set)\n",
        "print(\"--------\")\n",
        "print(test_set)"
      ],
      "metadata": {
        "colab": {
          "base_uri": "https://localhost:8080/"
        },
        "id": "TWDjMPeXXKtj",
        "outputId": "e3aaf1d6-3ef3-4433-a16b-71dc64473a25"
      },
      "execution_count": 29,
      "outputs": [
        {
          "output_type": "stream",
          "name": "stdout",
          "text": [
            "[[ 37.5 130.8   1. ]\n",
            " [ 37.6 130.9   2. ]\n",
            " [ 37.7 131.    3. ]\n",
            " [ 37.8 131.1   4. ]\n",
            " [ 37.9 131.2   5. ]\n",
            " [ 38.  131.3   6. ]\n",
            " [ 38.2 131.    7. ]\n",
            " [ 37.9 130.5   8. ]\n",
            " [ 37.5 130.    9. ]\n",
            " [ 37.3 129.8  10. ]\n",
            " [ 38.  131.   11. ]\n",
            " [ 39.  132.   12. ]\n",
            " [ 41.  133.   13. ]\n",
            " [ 40.  131.   14. ]\n",
            " [ 39.  130.5  15. ]\n",
            " [ 39.2 131.   16. ]\n",
            " [ 39.7 131.5  17. ]\n",
            " [ 40.  131.9  18. ]\n",
            " [ 40.5 132.5  19. ]\n",
            " [ 40.9 133.   20. ]\n",
            " [ 41.  134.   21. ]\n",
            " [ 40.6 133.   22. ]\n",
            " [ 40.9 133.   23. ]\n",
            " [ 40.3 132.   24. ]]\n",
            "--------\n",
            "[[ 40.1 133.   25. ]\n",
            " [ 39.8 132.   26. ]\n",
            " [ 39.3 131.   27. ]\n",
            " [ 39.  130.   28. ]\n",
            " [ 38.  129.   29. ]\n",
            " [ 37.  130.   30. ]]\n"
          ]
        }
      ]
    },
    {
      "cell_type": "code",
      "source": [
        "from sklearn.preprocessing import StandardScaler , MinMaxScaler"
      ],
      "metadata": {
        "id": "ybSOnFB-X_dX"
      },
      "execution_count": 13,
      "outputs": []
    },
    {
      "cell_type": "code",
      "source": [
        "minmax = MinMaxScaler()\n",
        "standard = StandardScaler()\n",
        "x_ss = standard.fit_transform(df)\n",
        "y_mm = minmax.fit_transform(y)\n",
        "x_train, x_test = split_train_test(x_ss,0.2)\n",
        "y_train, y_test = split_train_test(y_mm,0.2)\n",
        "# print(x_train)\n",
        "\n",
        "# print(x_train.shape)\n",
        "# print(y_train.shape)\n",
        "x_train_tensors = Variable(torch.Tensor(x_train))\n",
        "x_test_tensors = Variable(torch.Tensor(x_test))\n",
        "y_train_tensors = Variable(torch.Tensor(y_train))\n",
        "y_test_tensors = Variable(torch.Tensor(y_test))\n",
        "x_train_final = torch.reshape(x_train_tensors,(x_train_tensors.shape[0],1,x_train_tensors.shape[1]))\n",
        "x_test_final = torch.reshape(x_test_tensors,(x_test_tensors.shape[0],1,x_test_tensors.shape[1]))\n",
        "# print(x_train_tensors.shape)\n",
        "# print(y_train_tensors.shape)\n",
        "# print(x_train_final.shape)\n",
        "\n",
        "\n",
        "x1_ss = standard.fit_transform(y)\n",
        "y1_mm = minmax.fit_transform(y)\n",
        "x_train1, x_test1 = split_train_test(x1_ss,0.2)\n",
        "y_train1, y_test1 = split_train_test(y1_mm,0.2)\n",
        "# print(x_train1)\n",
        "\n",
        "# print(x_train1.shape)\n",
        "# print(y_train1.shape)\n",
        "x1_train_tensors = Variable(torch.Tensor(x_train1))\n",
        "x1_test_tensors = Variable(torch.Tensor(x_test1))\n",
        "y1_train_tensors = Variable(torch.Tensor(y_train1))\n",
        "y1_test_tensors = Variable(torch.Tensor(y_test1))\n",
        "x1_train_final = torch.reshape(x1_train_tensors,(x1_train_tensors.shape[0],1,x1_train_tensors.shape[1]))\n",
        "x1_test_final = torch.reshape(x1_test_tensors,(x1_test_tensors.shape[0],1,x1_test_tensors.shape[1]))\n",
        "# print(x1_train_tensors.shape)\n",
        "# print(y1_train_tensors.shape)\n",
        "# print(x1_train_final.shape)\n",
        "print(x_train_final.shape)\n",
        "print(x1_train_final.shape)\n",
        "print(y_train_tensors.shape)\n",
        "print(y1_train_tensors.shape)\n"
      ],
      "metadata": {
        "colab": {
          "base_uri": "https://localhost:8080/"
        },
        "id": "TeNX3kUdYE8y",
        "outputId": "f180d311-0abb-4be6-9987-5f0a1d258d66"
      },
      "execution_count": 66,
      "outputs": [
        {
          "output_type": "stream",
          "name": "stdout",
          "text": [
            "torch.Size([24, 1, 3])\n",
            "torch.Size([24, 1, 2])\n",
            "torch.Size([24, 2])\n",
            "torch.Size([24, 2])\n"
          ]
        }
      ]
    },
    {
      "cell_type": "code",
      "source": [
        ""
      ],
      "metadata": {
        "id": "sTHfaZMRCvqf"
      },
      "execution_count": null,
      "outputs": []
    },
    {
      "cell_type": "code",
      "source": [
        "num_epochs = 10000\n",
        "learning_rate = 0.00001\n",
        "input_size = 3\n",
        "hidden_size = 2\n",
        "num_layers = 1\n",
        "num_classes = 2\n",
        "\n",
        "input1_size = 2\n",
        "lstm1 = LSTM1(num_classes,input_size,hidden_size,num_layers,x_train_final.shape[1]).to(device)\n",
        "lstm2 = LSTM1(num_classes,input1_size,hidden_size,num_layers,x1_train_final.shape[1]).to(device)\n",
        "\n",
        "loss_function = torch.nn.MSELoss()\n",
        "optimizer = torch.optim.Adam(lstm1.parameters(), lr = learning_rate)\n"
      ],
      "metadata": {
        "id": "Ze64YtPUv2CJ"
      },
      "execution_count": 67,
      "outputs": []
    },
    {
      "cell_type": "code",
      "source": [
        "for epoch in range(num_epochs):\n",
        "  outputs = lstm1.forward(x_train_final.to(device))\n",
        "  optimizer.zero_grad()\n",
        "  loss = loss_function(outputs, y_train_tensors.to(device))\n",
        "  loss.backward()\n",
        "  optimizer.step()\n",
        "  \n",
        "  if epoch % 100 == 0:\n",
        "    print(\"Epoch : %d, loss : %1.5f\" % (epoch,loss.item()))"
      ],
      "metadata": {
        "colab": {
          "base_uri": "https://localhost:8080/",
          "height": 873
        },
        "id": "PAM6sxHhwU8Y",
        "outputId": "25306a12-b333-4631-fda3-e3942ade98e2"
      },
      "execution_count": 63,
      "outputs": [
        {
          "output_type": "stream",
          "name": "stdout",
          "text": [
            "Epoch : 0, loss : 0.34191\n",
            "Epoch : 100, loss : 0.31466\n",
            "Epoch : 200, loss : 0.28971\n",
            "Epoch : 300, loss : 0.26691\n",
            "Epoch : 400, loss : 0.24611\n",
            "Epoch : 500, loss : 0.22722\n",
            "Epoch : 600, loss : 0.21010\n",
            "Epoch : 700, loss : 0.19465\n",
            "Epoch : 800, loss : 0.18074\n",
            "Epoch : 900, loss : 0.16827\n",
            "Epoch : 1000, loss : 0.15714\n",
            "Epoch : 1100, loss : 0.14723\n",
            "Epoch : 1200, loss : 0.13843\n",
            "Epoch : 1300, loss : 0.13064\n",
            "Epoch : 1400, loss : 0.12375\n",
            "Epoch : 1500, loss : 0.11768\n",
            "Epoch : 1600, loss : 0.11231\n",
            "Epoch : 1700, loss : 0.10758\n",
            "Epoch : 1800, loss : 0.10340\n",
            "Epoch : 1900, loss : 0.09969\n",
            "Epoch : 2000, loss : 0.09638\n",
            "Epoch : 2100, loss : 0.09342\n",
            "Epoch : 2200, loss : 0.09074\n",
            "Epoch : 2300, loss : 0.08830\n"
          ]
        },
        {
          "output_type": "error",
          "ename": "KeyboardInterrupt",
          "evalue": "ignored",
          "traceback": [
            "\u001b[0;31m---------------------------------------------------------------------------\u001b[0m",
            "\u001b[0;31mKeyboardInterrupt\u001b[0m                         Traceback (most recent call last)",
            "\u001b[0;32m<ipython-input-63-f02c580fd97a>\u001b[0m in \u001b[0;36m<module>\u001b[0;34m\u001b[0m\n\u001b[1;32m      4\u001b[0m   \u001b[0mloss\u001b[0m \u001b[0;34m=\u001b[0m \u001b[0mloss_function\u001b[0m\u001b[0;34m(\u001b[0m\u001b[0moutputs\u001b[0m\u001b[0;34m,\u001b[0m \u001b[0my_train_tensors\u001b[0m\u001b[0;34m.\u001b[0m\u001b[0mto\u001b[0m\u001b[0;34m(\u001b[0m\u001b[0mdevice\u001b[0m\u001b[0;34m)\u001b[0m\u001b[0;34m)\u001b[0m\u001b[0;34m\u001b[0m\u001b[0;34m\u001b[0m\u001b[0m\n\u001b[1;32m      5\u001b[0m   \u001b[0mloss\u001b[0m\u001b[0;34m.\u001b[0m\u001b[0mbackward\u001b[0m\u001b[0;34m(\u001b[0m\u001b[0;34m)\u001b[0m\u001b[0;34m\u001b[0m\u001b[0;34m\u001b[0m\u001b[0m\n\u001b[0;32m----> 6\u001b[0;31m   \u001b[0moptimizer\u001b[0m\u001b[0;34m.\u001b[0m\u001b[0mstep\u001b[0m\u001b[0;34m(\u001b[0m\u001b[0;34m)\u001b[0m\u001b[0;34m\u001b[0m\u001b[0;34m\u001b[0m\u001b[0m\n\u001b[0m\u001b[1;32m      7\u001b[0m \u001b[0;34m\u001b[0m\u001b[0m\n\u001b[1;32m      8\u001b[0m   \u001b[0;32mif\u001b[0m \u001b[0mepoch\u001b[0m \u001b[0;34m%\u001b[0m \u001b[0;36m100\u001b[0m \u001b[0;34m==\u001b[0m \u001b[0;36m0\u001b[0m\u001b[0;34m:\u001b[0m\u001b[0;34m\u001b[0m\u001b[0;34m\u001b[0m\u001b[0m\n",
            "\u001b[0;32m/usr/local/lib/python3.7/dist-packages/torch/optim/optimizer.py\u001b[0m in \u001b[0;36mwrapper\u001b[0;34m(*args, **kwargs)\u001b[0m\n\u001b[1;32m    111\u001b[0m                 \u001b[0mprofile_name\u001b[0m \u001b[0;34m=\u001b[0m \u001b[0;34m\"Optimizer.step#{}.step\"\u001b[0m\u001b[0;34m.\u001b[0m\u001b[0mformat\u001b[0m\u001b[0;34m(\u001b[0m\u001b[0mobj\u001b[0m\u001b[0;34m.\u001b[0m\u001b[0m__class__\u001b[0m\u001b[0;34m.\u001b[0m\u001b[0m__name__\u001b[0m\u001b[0;34m)\u001b[0m\u001b[0;34m\u001b[0m\u001b[0;34m\u001b[0m\u001b[0m\n\u001b[1;32m    112\u001b[0m                 \u001b[0;32mwith\u001b[0m \u001b[0mtorch\u001b[0m\u001b[0;34m.\u001b[0m\u001b[0mautograd\u001b[0m\u001b[0;34m.\u001b[0m\u001b[0mprofiler\u001b[0m\u001b[0;34m.\u001b[0m\u001b[0mrecord_function\u001b[0m\u001b[0;34m(\u001b[0m\u001b[0mprofile_name\u001b[0m\u001b[0;34m)\u001b[0m\u001b[0;34m:\u001b[0m\u001b[0;34m\u001b[0m\u001b[0;34m\u001b[0m\u001b[0m\n\u001b[0;32m--> 113\u001b[0;31m                     \u001b[0;32mreturn\u001b[0m \u001b[0mfunc\u001b[0m\u001b[0;34m(\u001b[0m\u001b[0;34m*\u001b[0m\u001b[0margs\u001b[0m\u001b[0;34m,\u001b[0m \u001b[0;34m**\u001b[0m\u001b[0mkwargs\u001b[0m\u001b[0;34m)\u001b[0m\u001b[0;34m\u001b[0m\u001b[0;34m\u001b[0m\u001b[0m\n\u001b[0m\u001b[1;32m    114\u001b[0m             \u001b[0;32mreturn\u001b[0m \u001b[0mwrapper\u001b[0m\u001b[0;34m\u001b[0m\u001b[0;34m\u001b[0m\u001b[0m\n\u001b[1;32m    115\u001b[0m \u001b[0;34m\u001b[0m\u001b[0m\n",
            "\u001b[0;32m/usr/local/lib/python3.7/dist-packages/torch/autograd/grad_mode.py\u001b[0m in \u001b[0;36mdecorate_context\u001b[0;34m(*args, **kwargs)\u001b[0m\n\u001b[1;32m     25\u001b[0m         \u001b[0;32mdef\u001b[0m \u001b[0mdecorate_context\u001b[0m\u001b[0;34m(\u001b[0m\u001b[0;34m*\u001b[0m\u001b[0margs\u001b[0m\u001b[0;34m,\u001b[0m \u001b[0;34m**\u001b[0m\u001b[0mkwargs\u001b[0m\u001b[0;34m)\u001b[0m\u001b[0;34m:\u001b[0m\u001b[0;34m\u001b[0m\u001b[0;34m\u001b[0m\u001b[0m\n\u001b[1;32m     26\u001b[0m             \u001b[0;32mwith\u001b[0m \u001b[0mself\u001b[0m\u001b[0;34m.\u001b[0m\u001b[0mclone\u001b[0m\u001b[0;34m(\u001b[0m\u001b[0;34m)\u001b[0m\u001b[0;34m:\u001b[0m\u001b[0;34m\u001b[0m\u001b[0;34m\u001b[0m\u001b[0m\n\u001b[0;32m---> 27\u001b[0;31m                 \u001b[0;32mreturn\u001b[0m \u001b[0mfunc\u001b[0m\u001b[0;34m(\u001b[0m\u001b[0;34m*\u001b[0m\u001b[0margs\u001b[0m\u001b[0;34m,\u001b[0m \u001b[0;34m**\u001b[0m\u001b[0mkwargs\u001b[0m\u001b[0;34m)\u001b[0m\u001b[0;34m\u001b[0m\u001b[0;34m\u001b[0m\u001b[0m\n\u001b[0m\u001b[1;32m     28\u001b[0m         \u001b[0;32mreturn\u001b[0m \u001b[0mcast\u001b[0m\u001b[0;34m(\u001b[0m\u001b[0mF\u001b[0m\u001b[0;34m,\u001b[0m \u001b[0mdecorate_context\u001b[0m\u001b[0;34m)\u001b[0m\u001b[0;34m\u001b[0m\u001b[0;34m\u001b[0m\u001b[0m\n\u001b[1;32m     29\u001b[0m \u001b[0;34m\u001b[0m\u001b[0m\n",
            "\u001b[0;32m/usr/local/lib/python3.7/dist-packages/torch/optim/adam.py\u001b[0m in \u001b[0;36mstep\u001b[0;34m(self, closure)\u001b[0m\n\u001b[1;32m    169\u001b[0m                  \u001b[0mmaximize\u001b[0m\u001b[0;34m=\u001b[0m\u001b[0mgroup\u001b[0m\u001b[0;34m[\u001b[0m\u001b[0;34m'maximize'\u001b[0m\u001b[0;34m]\u001b[0m\u001b[0;34m,\u001b[0m\u001b[0;34m\u001b[0m\u001b[0;34m\u001b[0m\u001b[0m\n\u001b[1;32m    170\u001b[0m                  \u001b[0mforeach\u001b[0m\u001b[0;34m=\u001b[0m\u001b[0mgroup\u001b[0m\u001b[0;34m[\u001b[0m\u001b[0;34m'foreach'\u001b[0m\u001b[0;34m]\u001b[0m\u001b[0;34m,\u001b[0m\u001b[0;34m\u001b[0m\u001b[0;34m\u001b[0m\u001b[0m\n\u001b[0;32m--> 171\u001b[0;31m                  capturable=group['capturable'])\n\u001b[0m\u001b[1;32m    172\u001b[0m \u001b[0;34m\u001b[0m\u001b[0m\n\u001b[1;32m    173\u001b[0m         \u001b[0;32mreturn\u001b[0m \u001b[0mloss\u001b[0m\u001b[0;34m\u001b[0m\u001b[0;34m\u001b[0m\u001b[0m\n",
            "\u001b[0;32m/usr/local/lib/python3.7/dist-packages/torch/optim/adam.py\u001b[0m in \u001b[0;36madam\u001b[0;34m(params, grads, exp_avgs, exp_avg_sqs, max_exp_avg_sqs, state_steps, foreach, capturable, amsgrad, beta1, beta2, lr, weight_decay, eps, maximize)\u001b[0m\n\u001b[1;32m    224\u001b[0m          \u001b[0meps\u001b[0m\u001b[0;34m=\u001b[0m\u001b[0meps\u001b[0m\u001b[0;34m,\u001b[0m\u001b[0;34m\u001b[0m\u001b[0;34m\u001b[0m\u001b[0m\n\u001b[1;32m    225\u001b[0m          \u001b[0mmaximize\u001b[0m\u001b[0;34m=\u001b[0m\u001b[0mmaximize\u001b[0m\u001b[0;34m,\u001b[0m\u001b[0;34m\u001b[0m\u001b[0;34m\u001b[0m\u001b[0m\n\u001b[0;32m--> 226\u001b[0;31m          capturable=capturable)\n\u001b[0m\u001b[1;32m    227\u001b[0m \u001b[0;34m\u001b[0m\u001b[0m\n\u001b[1;32m    228\u001b[0m \u001b[0;34m\u001b[0m\u001b[0m\n",
            "\u001b[0;32m/usr/local/lib/python3.7/dist-packages/torch/optim/adam.py\u001b[0m in \u001b[0;36m_single_tensor_adam\u001b[0;34m(params, grads, exp_avgs, exp_avg_sqs, max_exp_avg_sqs, state_steps, amsgrad, beta1, beta2, lr, weight_decay, eps, maximize, capturable)\u001b[0m\n\u001b[1;32m    303\u001b[0m                 \u001b[0mdenom\u001b[0m \u001b[0;34m=\u001b[0m \u001b[0;34m(\u001b[0m\u001b[0mmax_exp_avg_sqs\u001b[0m\u001b[0;34m[\u001b[0m\u001b[0mi\u001b[0m\u001b[0;34m]\u001b[0m\u001b[0;34m.\u001b[0m\u001b[0msqrt\u001b[0m\u001b[0;34m(\u001b[0m\u001b[0;34m)\u001b[0m \u001b[0;34m/\u001b[0m \u001b[0mbias_correction2_sqrt\u001b[0m\u001b[0;34m)\u001b[0m\u001b[0;34m.\u001b[0m\u001b[0madd_\u001b[0m\u001b[0;34m(\u001b[0m\u001b[0meps\u001b[0m\u001b[0;34m)\u001b[0m\u001b[0;34m\u001b[0m\u001b[0;34m\u001b[0m\u001b[0m\n\u001b[1;32m    304\u001b[0m             \u001b[0;32melse\u001b[0m\u001b[0;34m:\u001b[0m\u001b[0;34m\u001b[0m\u001b[0;34m\u001b[0m\u001b[0m\n\u001b[0;32m--> 305\u001b[0;31m                 \u001b[0mdenom\u001b[0m \u001b[0;34m=\u001b[0m \u001b[0;34m(\u001b[0m\u001b[0mexp_avg_sq\u001b[0m\u001b[0;34m.\u001b[0m\u001b[0msqrt\u001b[0m\u001b[0;34m(\u001b[0m\u001b[0;34m)\u001b[0m \u001b[0;34m/\u001b[0m \u001b[0mbias_correction2_sqrt\u001b[0m\u001b[0;34m)\u001b[0m\u001b[0;34m.\u001b[0m\u001b[0madd_\u001b[0m\u001b[0;34m(\u001b[0m\u001b[0meps\u001b[0m\u001b[0;34m)\u001b[0m\u001b[0;34m\u001b[0m\u001b[0;34m\u001b[0m\u001b[0m\n\u001b[0m\u001b[1;32m    306\u001b[0m \u001b[0;34m\u001b[0m\u001b[0m\n\u001b[1;32m    307\u001b[0m             \u001b[0mparam\u001b[0m\u001b[0;34m.\u001b[0m\u001b[0maddcdiv_\u001b[0m\u001b[0;34m(\u001b[0m\u001b[0mexp_avg\u001b[0m\u001b[0;34m,\u001b[0m \u001b[0mdenom\u001b[0m\u001b[0;34m,\u001b[0m \u001b[0mvalue\u001b[0m\u001b[0;34m=\u001b[0m\u001b[0;34m-\u001b[0m\u001b[0mstep_size\u001b[0m\u001b[0;34m)\u001b[0m\u001b[0;34m\u001b[0m\u001b[0;34m\u001b[0m\u001b[0m\n",
            "\u001b[0;31mKeyboardInterrupt\u001b[0m: "
          ]
        }
      ]
    },
    {
      "cell_type": "code",
      "source": [
        "for epoch in range(num_epochs):\n",
        "  outputs = lstm2.forward(x1_train_final.to(device))\n",
        "  optimizer.zero_grad()\n",
        "  loss = loss_function(outputs, y1_train_tensors.to(device))\n",
        "  loss.backward()\n",
        "  optimizer.step()\n",
        "  \n",
        "  if epoch % 100 == 0:\n",
        "    print(\"Epoch : %d, loss : %1.5f\" % (epoch,loss.item()))"
      ],
      "metadata": {
        "colab": {
          "base_uri": "https://localhost:8080/",
          "height": 854
        },
        "id": "s6xZnnN9DZLe",
        "outputId": "d54260b2-e458-43cc-cbcc-7a50238b1c0a"
      },
      "execution_count": 68,
      "outputs": [
        {
          "output_type": "stream",
          "name": "stdout",
          "text": [
            "Epoch : 0, loss : 0.39119\n",
            "Epoch : 100, loss : 0.39119\n",
            "Epoch : 200, loss : 0.39119\n",
            "Epoch : 300, loss : 0.39119\n",
            "Epoch : 400, loss : 0.39119\n",
            "Epoch : 500, loss : 0.39119\n",
            "Epoch : 600, loss : 0.39119\n",
            "Epoch : 700, loss : 0.39119\n",
            "Epoch : 800, loss : 0.39119\n",
            "Epoch : 900, loss : 0.39119\n",
            "Epoch : 1000, loss : 0.39119\n",
            "Epoch : 1100, loss : 0.39119\n",
            "Epoch : 1200, loss : 0.39119\n",
            "Epoch : 1300, loss : 0.39119\n",
            "Epoch : 1400, loss : 0.39119\n",
            "Epoch : 1500, loss : 0.39119\n",
            "Epoch : 1600, loss : 0.39119\n",
            "Epoch : 1700, loss : 0.39119\n",
            "Epoch : 1800, loss : 0.39119\n",
            "Epoch : 1900, loss : 0.39119\n",
            "Epoch : 2000, loss : 0.39119\n",
            "Epoch : 2100, loss : 0.39119\n",
            "Epoch : 2200, loss : 0.39119\n",
            "Epoch : 2300, loss : 0.39119\n"
          ]
        },
        {
          "output_type": "error",
          "ename": "KeyboardInterrupt",
          "evalue": "ignored",
          "traceback": [
            "\u001b[0;31m---------------------------------------------------------------------------\u001b[0m",
            "\u001b[0;31mKeyboardInterrupt\u001b[0m                         Traceback (most recent call last)",
            "\u001b[0;32m<ipython-input-68-833348c39fe5>\u001b[0m in \u001b[0;36m<module>\u001b[0;34m\u001b[0m\n\u001b[1;32m      1\u001b[0m \u001b[0;32mfor\u001b[0m \u001b[0mepoch\u001b[0m \u001b[0;32min\u001b[0m \u001b[0mrange\u001b[0m\u001b[0;34m(\u001b[0m\u001b[0mnum_epochs\u001b[0m\u001b[0;34m)\u001b[0m\u001b[0;34m:\u001b[0m\u001b[0;34m\u001b[0m\u001b[0;34m\u001b[0m\u001b[0m\n\u001b[0;32m----> 2\u001b[0;31m   \u001b[0moutputs\u001b[0m \u001b[0;34m=\u001b[0m \u001b[0mlstm2\u001b[0m\u001b[0;34m.\u001b[0m\u001b[0mforward\u001b[0m\u001b[0;34m(\u001b[0m\u001b[0mx1_train_final\u001b[0m\u001b[0;34m.\u001b[0m\u001b[0mto\u001b[0m\u001b[0;34m(\u001b[0m\u001b[0mdevice\u001b[0m\u001b[0;34m)\u001b[0m\u001b[0;34m)\u001b[0m\u001b[0;34m\u001b[0m\u001b[0;34m\u001b[0m\u001b[0m\n\u001b[0m\u001b[1;32m      3\u001b[0m   \u001b[0moptimizer\u001b[0m\u001b[0;34m.\u001b[0m\u001b[0mzero_grad\u001b[0m\u001b[0;34m(\u001b[0m\u001b[0;34m)\u001b[0m\u001b[0;34m\u001b[0m\u001b[0;34m\u001b[0m\u001b[0m\n\u001b[1;32m      4\u001b[0m   \u001b[0mloss\u001b[0m \u001b[0;34m=\u001b[0m \u001b[0mloss_function\u001b[0m\u001b[0;34m(\u001b[0m\u001b[0moutputs\u001b[0m\u001b[0;34m,\u001b[0m \u001b[0my1_train_tensors\u001b[0m\u001b[0;34m.\u001b[0m\u001b[0mto\u001b[0m\u001b[0;34m(\u001b[0m\u001b[0mdevice\u001b[0m\u001b[0;34m)\u001b[0m\u001b[0;34m)\u001b[0m\u001b[0;34m\u001b[0m\u001b[0;34m\u001b[0m\u001b[0m\n\u001b[1;32m      5\u001b[0m   \u001b[0mloss\u001b[0m\u001b[0;34m.\u001b[0m\u001b[0mbackward\u001b[0m\u001b[0;34m(\u001b[0m\u001b[0;34m)\u001b[0m\u001b[0;34m\u001b[0m\u001b[0;34m\u001b[0m\u001b[0m\n",
            "\u001b[0;32m<ipython-input-5-0568e95f10a0>\u001b[0m in \u001b[0;36mforward\u001b[0;34m(self, x)\u001b[0m\n\u001b[1;32m     22\u001b[0m     \u001b[0mhn\u001b[0m \u001b[0;34m=\u001b[0m \u001b[0mhn\u001b[0m\u001b[0;34m.\u001b[0m\u001b[0mview\u001b[0m\u001b[0;34m(\u001b[0m\u001b[0;34m-\u001b[0m\u001b[0;36m1\u001b[0m\u001b[0;34m,\u001b[0m\u001b[0mself\u001b[0m\u001b[0;34m.\u001b[0m\u001b[0mhidden_size\u001b[0m\u001b[0;34m)\u001b[0m\u001b[0;34m\u001b[0m\u001b[0;34m\u001b[0m\u001b[0m\n\u001b[1;32m     23\u001b[0m     \u001b[0mout\u001b[0m \u001b[0;34m=\u001b[0m \u001b[0mself\u001b[0m\u001b[0;34m.\u001b[0m\u001b[0mrelu\u001b[0m\u001b[0;34m(\u001b[0m\u001b[0mhn\u001b[0m\u001b[0;34m)\u001b[0m\u001b[0;34m\u001b[0m\u001b[0;34m\u001b[0m\u001b[0m\n\u001b[0;32m---> 24\u001b[0;31m     \u001b[0mout\u001b[0m \u001b[0;34m=\u001b[0m \u001b[0mself\u001b[0m\u001b[0;34m.\u001b[0m\u001b[0mfc_1\u001b[0m\u001b[0;34m(\u001b[0m\u001b[0mout\u001b[0m\u001b[0;34m)\u001b[0m\u001b[0;34m\u001b[0m\u001b[0;34m\u001b[0m\u001b[0m\n\u001b[0m\u001b[1;32m     25\u001b[0m     \u001b[0mout\u001b[0m \u001b[0;34m=\u001b[0m \u001b[0mself\u001b[0m\u001b[0;34m.\u001b[0m\u001b[0mrelu\u001b[0m\u001b[0;34m(\u001b[0m\u001b[0mout\u001b[0m\u001b[0;34m)\u001b[0m\u001b[0;34m\u001b[0m\u001b[0;34m\u001b[0m\u001b[0m\n\u001b[1;32m     26\u001b[0m     \u001b[0mout\u001b[0m \u001b[0;34m=\u001b[0m \u001b[0mself\u001b[0m\u001b[0;34m.\u001b[0m\u001b[0mfc\u001b[0m\u001b[0;34m(\u001b[0m\u001b[0mout\u001b[0m\u001b[0;34m)\u001b[0m\u001b[0;34m\u001b[0m\u001b[0;34m\u001b[0m\u001b[0m\n",
            "\u001b[0;32m/usr/local/lib/python3.7/dist-packages/torch/nn/modules/module.py\u001b[0m in \u001b[0;36m_call_impl\u001b[0;34m(self, *input, **kwargs)\u001b[0m\n\u001b[1;32m   1128\u001b[0m         if not (self._backward_hooks or self._forward_hooks or self._forward_pre_hooks or _global_backward_hooks\n\u001b[1;32m   1129\u001b[0m                 or _global_forward_hooks or _global_forward_pre_hooks):\n\u001b[0;32m-> 1130\u001b[0;31m             \u001b[0;32mreturn\u001b[0m \u001b[0mforward_call\u001b[0m\u001b[0;34m(\u001b[0m\u001b[0;34m*\u001b[0m\u001b[0minput\u001b[0m\u001b[0;34m,\u001b[0m \u001b[0;34m**\u001b[0m\u001b[0mkwargs\u001b[0m\u001b[0;34m)\u001b[0m\u001b[0;34m\u001b[0m\u001b[0;34m\u001b[0m\u001b[0m\n\u001b[0m\u001b[1;32m   1131\u001b[0m         \u001b[0;31m# Do not call functions when jit is used\u001b[0m\u001b[0;34m\u001b[0m\u001b[0;34m\u001b[0m\u001b[0;34m\u001b[0m\u001b[0m\n\u001b[1;32m   1132\u001b[0m         \u001b[0mfull_backward_hooks\u001b[0m\u001b[0;34m,\u001b[0m \u001b[0mnon_full_backward_hooks\u001b[0m \u001b[0;34m=\u001b[0m \u001b[0;34m[\u001b[0m\u001b[0;34m]\u001b[0m\u001b[0;34m,\u001b[0m \u001b[0;34m[\u001b[0m\u001b[0;34m]\u001b[0m\u001b[0;34m\u001b[0m\u001b[0;34m\u001b[0m\u001b[0m\n",
            "\u001b[0;32m/usr/local/lib/python3.7/dist-packages/torch/nn/modules/linear.py\u001b[0m in \u001b[0;36mforward\u001b[0;34m(self, input)\u001b[0m\n\u001b[1;32m    112\u001b[0m \u001b[0;34m\u001b[0m\u001b[0m\n\u001b[1;32m    113\u001b[0m     \u001b[0;32mdef\u001b[0m \u001b[0mforward\u001b[0m\u001b[0;34m(\u001b[0m\u001b[0mself\u001b[0m\u001b[0;34m,\u001b[0m \u001b[0minput\u001b[0m\u001b[0;34m:\u001b[0m \u001b[0mTensor\u001b[0m\u001b[0;34m)\u001b[0m \u001b[0;34m->\u001b[0m \u001b[0mTensor\u001b[0m\u001b[0;34m:\u001b[0m\u001b[0;34m\u001b[0m\u001b[0;34m\u001b[0m\u001b[0m\n\u001b[0;32m--> 114\u001b[0;31m         \u001b[0;32mreturn\u001b[0m \u001b[0mF\u001b[0m\u001b[0;34m.\u001b[0m\u001b[0mlinear\u001b[0m\u001b[0;34m(\u001b[0m\u001b[0minput\u001b[0m\u001b[0;34m,\u001b[0m \u001b[0mself\u001b[0m\u001b[0;34m.\u001b[0m\u001b[0mweight\u001b[0m\u001b[0;34m,\u001b[0m \u001b[0mself\u001b[0m\u001b[0;34m.\u001b[0m\u001b[0mbias\u001b[0m\u001b[0;34m)\u001b[0m\u001b[0;34m\u001b[0m\u001b[0;34m\u001b[0m\u001b[0m\n\u001b[0m\u001b[1;32m    115\u001b[0m \u001b[0;34m\u001b[0m\u001b[0m\n\u001b[1;32m    116\u001b[0m     \u001b[0;32mdef\u001b[0m \u001b[0mextra_repr\u001b[0m\u001b[0;34m(\u001b[0m\u001b[0mself\u001b[0m\u001b[0;34m)\u001b[0m \u001b[0;34m->\u001b[0m \u001b[0mstr\u001b[0m\u001b[0;34m:\u001b[0m\u001b[0;34m\u001b[0m\u001b[0;34m\u001b[0m\u001b[0m\n",
            "\u001b[0;32m/usr/local/lib/python3.7/dist-packages/torch/nn/modules/module.py\u001b[0m in \u001b[0;36m__getattr__\u001b[0;34m(self, name)\u001b[0m\n\u001b[1;32m   1192\u001b[0m             \u001b[0mself\u001b[0m\u001b[0;34m.\u001b[0m\u001b[0m_is_full_backward_hook\u001b[0m \u001b[0;34m=\u001b[0m \u001b[0;32mNone\u001b[0m\u001b[0;34m\u001b[0m\u001b[0;34m\u001b[0m\u001b[0m\n\u001b[1;32m   1193\u001b[0m \u001b[0;34m\u001b[0m\u001b[0m\n\u001b[0;32m-> 1194\u001b[0;31m     \u001b[0;32mdef\u001b[0m \u001b[0m__getattr__\u001b[0m\u001b[0;34m(\u001b[0m\u001b[0mself\u001b[0m\u001b[0;34m,\u001b[0m \u001b[0mname\u001b[0m\u001b[0;34m:\u001b[0m \u001b[0mstr\u001b[0m\u001b[0;34m)\u001b[0m \u001b[0;34m->\u001b[0m \u001b[0mUnion\u001b[0m\u001b[0;34m[\u001b[0m\u001b[0mTensor\u001b[0m\u001b[0;34m,\u001b[0m \u001b[0;34m'Module'\u001b[0m\u001b[0;34m]\u001b[0m\u001b[0;34m:\u001b[0m\u001b[0;34m\u001b[0m\u001b[0;34m\u001b[0m\u001b[0m\n\u001b[0m\u001b[1;32m   1195\u001b[0m         \u001b[0;32mif\u001b[0m \u001b[0;34m'_parameters'\u001b[0m \u001b[0;32min\u001b[0m \u001b[0mself\u001b[0m\u001b[0;34m.\u001b[0m\u001b[0m__dict__\u001b[0m\u001b[0;34m:\u001b[0m\u001b[0;34m\u001b[0m\u001b[0;34m\u001b[0m\u001b[0m\n\u001b[1;32m   1196\u001b[0m             \u001b[0m_parameters\u001b[0m \u001b[0;34m=\u001b[0m \u001b[0mself\u001b[0m\u001b[0;34m.\u001b[0m\u001b[0m__dict__\u001b[0m\u001b[0;34m[\u001b[0m\u001b[0;34m'_parameters'\u001b[0m\u001b[0;34m]\u001b[0m\u001b[0;34m\u001b[0m\u001b[0;34m\u001b[0m\u001b[0m\n",
            "\u001b[0;31mKeyboardInterrupt\u001b[0m: "
          ]
        }
      ]
    },
    {
      "cell_type": "code",
      "source": [
        "df_X_ss = standard.transform(df)\n",
        "df_y_mm = minmax.transform(y)\n",
        "df_X_ss = Variable(torch.Tensor(df_X_ss))\n",
        "df_y_mm = Variable(torch.Tensor(df_y_mm))\n",
        "df_X_ss = torch.reshape(df_X_ss , (df_X_ss.shape[0],1,df_X_ss.shape[1]))"
      ],
      "metadata": {
        "id": "TMbgmhGdxdfL"
      },
      "execution_count": 36,
      "outputs": []
    },
    {
      "cell_type": "code",
      "source": [
        "train_predict = lstm1(df_X_ss.to(device))\n",
        "data_predict = train_predict.data.detach().cpu().numpy()\n",
        "dataY_plot = df_y_mm.data.numpy()\n",
        "\n",
        "data_predict = minmax.inverse_transform(data_predict)\n",
        "print(data_predict)"
      ],
      "metadata": {
        "colab": {
          "base_uri": "https://localhost:8080/"
        },
        "id": "GlBb5Rd2xyNi",
        "outputId": "ea463ea1-2e45-4761-ad5d-b26435fb9f49"
      },
      "execution_count": 37,
      "outputs": [
        {
          "output_type": "stream",
          "name": "stdout",
          "text": [
            "[[ 38.068226 130.90422 ]\n",
            " [ 38.11663  130.94678 ]\n",
            " [ 38.173046 130.99513 ]\n",
            " [ 38.237957 131.04938 ]\n",
            " [ 38.311783 131.10956 ]\n",
            " [ 38.394867 131.17564 ]\n",
            " [ 38.35354  131.02399 ]\n",
            " [ 37.844147 130.40334 ]\n",
            " [ 37.40963  129.882   ]\n",
            " [ 37.305733 129.69902 ]\n",
            " [ 38.25887  130.75742 ]\n",
            " [ 39.471054 132.05829 ]\n",
            " [ 40.116497 132.53416 ]\n",
            " [ 40.038734 132.36133 ]\n",
            " [ 38.823597 130.82408 ]\n",
            " [ 39.285683 131.38327 ]\n",
            " [ 39.876247 132.14786 ]\n",
            " [ 40.150036 132.50795 ]\n",
            " [ 40.19456  132.56789 ]\n",
            " [ 40.19456  132.56789 ]\n",
            " [ 40.19456  132.56789 ]\n",
            " [ 40.19456  132.56789 ]\n",
            " [ 40.19456  132.56789 ]\n",
            " [ 40.064434 132.39508 ]\n",
            " [ 40.178894 132.54681 ]\n",
            " [ 39.776855 132.01817 ]\n",
            " [ 38.998222 131.0393  ]\n",
            " [ 38.30012  130.18297 ]\n",
            " [ 37.483513 129.25464 ]\n",
            " [ 37.798973 129.59805 ]]\n"
          ]
        }
      ]
    },
    {
      "cell_type": "code",
      "source": [
        "f1 = folium.PolyLine(locations = data_predict,color = 'red',tooltip = 'Predicted Trajectory')\n",
        "f1.add_to(m)\n",
        "m"
      ],
      "metadata": {
        "colab": {
          "base_uri": "https://localhost:8080/",
          "height": 531
        },
        "id": "BqXZX9PO6fdp",
        "outputId": "8bd9401f-ae40-43c6-d9ef-16a54594980d"
      },
      "execution_count": 46,
      "outputs": [
        {
          "output_type": "execute_result",
          "data": {
            "text/plain": [
              "<folium.folium.Map at 0x7f197a479c50>"
            ],
            "text/html": [
              "<div style=\"width:100%;\"><div style=\"position:relative;width:100%;height:0;padding-bottom:60%;\"><span style=\"color:#565656\">Make this Notebook Trusted to load map: File -> Trust Notebook</span><iframe srcdoc=\"&lt;!DOCTYPE html&gt;\n",
              "&lt;head&gt;    \n",
              "    &lt;meta http-equiv=&quot;content-type&quot; content=&quot;text/html; charset=UTF-8&quot; /&gt;\n",
              "    \n",
              "        &lt;script&gt;\n",
              "            L_NO_TOUCH = false;\n",
              "            L_DISABLE_3D = false;\n",
              "        &lt;/script&gt;\n",
              "    \n",
              "    &lt;style&gt;html, body {width: 100%;height: 100%;margin: 0;padding: 0;}&lt;/style&gt;\n",
              "    &lt;style&gt;#map {position:absolute;top:0;bottom:0;right:0;left:0;}&lt;/style&gt;\n",
              "    &lt;script src=&quot;https://cdn.jsdelivr.net/npm/leaflet@1.6.0/dist/leaflet.js&quot;&gt;&lt;/script&gt;\n",
              "    &lt;script src=&quot;https://code.jquery.com/jquery-1.12.4.min.js&quot;&gt;&lt;/script&gt;\n",
              "    &lt;script src=&quot;https://maxcdn.bootstrapcdn.com/bootstrap/3.2.0/js/bootstrap.min.js&quot;&gt;&lt;/script&gt;\n",
              "    &lt;script src=&quot;https://cdnjs.cloudflare.com/ajax/libs/Leaflet.awesome-markers/2.0.2/leaflet.awesome-markers.js&quot;&gt;&lt;/script&gt;\n",
              "    &lt;link rel=&quot;stylesheet&quot; href=&quot;https://cdn.jsdelivr.net/npm/leaflet@1.6.0/dist/leaflet.css&quot;/&gt;\n",
              "    &lt;link rel=&quot;stylesheet&quot; href=&quot;https://maxcdn.bootstrapcdn.com/bootstrap/3.2.0/css/bootstrap.min.css&quot;/&gt;\n",
              "    &lt;link rel=&quot;stylesheet&quot; href=&quot;https://maxcdn.bootstrapcdn.com/bootstrap/3.2.0/css/bootstrap-theme.min.css&quot;/&gt;\n",
              "    &lt;link rel=&quot;stylesheet&quot; href=&quot;https://maxcdn.bootstrapcdn.com/font-awesome/4.6.3/css/font-awesome.min.css&quot;/&gt;\n",
              "    &lt;link rel=&quot;stylesheet&quot; href=&quot;https://cdnjs.cloudflare.com/ajax/libs/Leaflet.awesome-markers/2.0.2/leaflet.awesome-markers.css&quot;/&gt;\n",
              "    &lt;link rel=&quot;stylesheet&quot; href=&quot;https://cdn.jsdelivr.net/gh/python-visualization/folium/folium/templates/leaflet.awesome.rotate.min.css&quot;/&gt;\n",
              "    \n",
              "            &lt;meta name=&quot;viewport&quot; content=&quot;width=device-width,\n",
              "                initial-scale=1.0, maximum-scale=1.0, user-scalable=no&quot; /&gt;\n",
              "            &lt;style&gt;\n",
              "                #map_c6a1cf8b8b08502cd256c6c702fbc882 {\n",
              "                    position: relative;\n",
              "                    width: 100.0%;\n",
              "                    height: 100.0%;\n",
              "                    left: 0.0%;\n",
              "                    top: 0.0%;\n",
              "                }\n",
              "            &lt;/style&gt;\n",
              "        \n",
              "&lt;/head&gt;\n",
              "&lt;body&gt;    \n",
              "    \n",
              "            &lt;div class=&quot;folium-map&quot; id=&quot;map_c6a1cf8b8b08502cd256c6c702fbc882&quot; &gt;&lt;/div&gt;\n",
              "        \n",
              "&lt;/body&gt;\n",
              "&lt;script&gt;    \n",
              "    \n",
              "            var map_c6a1cf8b8b08502cd256c6c702fbc882 = L.map(\n",
              "                &quot;map_c6a1cf8b8b08502cd256c6c702fbc882&quot;,\n",
              "                {\n",
              "                    center: [37.3, 130.52],\n",
              "                    crs: L.CRS.EPSG3857,\n",
              "                    zoom: 10,\n",
              "                    zoomControl: true,\n",
              "                    preferCanvas: false,\n",
              "                }\n",
              "            );\n",
              "\n",
              "            \n",
              "\n",
              "        \n",
              "    \n",
              "            var tile_layer_9415caa75af0302322d91e7bc261a729 = L.tileLayer(\n",
              "                &quot;https://{s}.tile.openstreetmap.org/{z}/{x}/{y}.png&quot;,\n",
              "                {&quot;attribution&quot;: &quot;Data by \\u0026copy; \\u003ca href=\\&quot;http://openstreetmap.org\\&quot;\\u003eOpenStreetMap\\u003c/a\\u003e, under \\u003ca href=\\&quot;http://www.openstreetmap.org/copyright\\&quot;\\u003eODbL\\u003c/a\\u003e.&quot;, &quot;detectRetina&quot;: false, &quot;maxNativeZoom&quot;: 18, &quot;maxZoom&quot;: 18, &quot;minZoom&quot;: 0, &quot;noWrap&quot;: false, &quot;opacity&quot;: 1, &quot;subdomains&quot;: &quot;abc&quot;, &quot;tms&quot;: false}\n",
              "            ).addTo(map_c6a1cf8b8b08502cd256c6c702fbc882);\n",
              "        \n",
              "    \n",
              "            var poly_line_acce11afa475ca350dfb067a0d771d61 = L.polyline(\n",
              "                [[38.0682258605957, 130.9042205810547], [38.11663055419922, 130.94677734375], [38.17304611206055, 130.99513244628906], [38.23795700073242, 131.04937744140625], [38.31178283691406, 131.10955810546875], [38.394866943359375, 131.17564392089844], [38.353538513183594, 131.02398681640625], [37.844146728515625, 130.40333557128906], [37.409629821777344, 129.8820037841797], [37.30573272705078, 129.6990203857422], [38.25886917114258, 130.75741577148438], [39.47105407714844, 132.05828857421875], [40.11649703979492, 132.53416442871094], [40.038734436035156, 132.361328125], [38.8235969543457, 130.82408142089844], [39.285682678222656, 131.38327026367188], [39.87624740600586, 132.14785766601562], [40.1500358581543, 132.50794982910156], [40.19456100463867, 132.56788635253906], [40.19456100463867, 132.56788635253906], [40.19456100463867, 132.56788635253906], [40.19456100463867, 132.56788635253906], [40.19456100463867, 132.56788635253906], [40.06443405151367, 132.39508056640625], [40.17889404296875, 132.54681396484375], [39.77685546875, 132.01817321777344], [38.99822235107422, 131.039306640625], [38.30012130737305, 130.18296813964844], [37.48351287841797, 129.254638671875], [37.798973083496094, 129.59805297851562]],\n",
              "                {&quot;bubblingMouseEvents&quot;: true, &quot;color&quot;: &quot;red&quot;, &quot;dashArray&quot;: null, &quot;dashOffset&quot;: null, &quot;fill&quot;: false, &quot;fillColor&quot;: &quot;red&quot;, &quot;fillOpacity&quot;: 0.2, &quot;fillRule&quot;: &quot;evenodd&quot;, &quot;lineCap&quot;: &quot;round&quot;, &quot;lineJoin&quot;: &quot;round&quot;, &quot;noClip&quot;: false, &quot;opacity&quot;: 1.0, &quot;smoothFactor&quot;: 1.0, &quot;stroke&quot;: true, &quot;weight&quot;: 3}\n",
              "            ).addTo(map_c6a1cf8b8b08502cd256c6c702fbc882);\n",
              "        \n",
              "    \n",
              "            poly_line_acce11afa475ca350dfb067a0d771d61.bindTooltip(\n",
              "                `&lt;div&gt;\n",
              "                     Predicted Trajectory\n",
              "                 &lt;/div&gt;`,\n",
              "                {&quot;sticky&quot;: true}\n",
              "            );\n",
              "        \n",
              "    \n",
              "            var poly_line_74466aa8a896c640b8833dc821c07121 = L.polyline(\n",
              "                [[37.5, 130.8], [37.6, 130.9], [37.7, 131.0], [37.8, 131.1], [37.9, 131.2], [38.0, 131.3], [38.2, 131.0], [37.9, 130.5], [37.5, 130.0], [37.3, 129.8], [38.0, 131.0], [39.0, 132.0], [41.0, 133.0], [40.0, 131.0], [39.0, 130.5], [39.2, 131.0], [39.7, 131.5], [40.0, 131.9], [40.5, 132.5], [40.9, 133.0], [41.0, 134.0], [40.6, 133.0], [40.9, 133.0], [40.3, 132.0], [40.1, 133.0], [39.8, 132.0], [39.3, 131.0], [39.0, 130.0], [38.0, 129.0], [37.0, 130.0]],\n",
              "                {&quot;bubblingMouseEvents&quot;: true, &quot;color&quot;: &quot;#3388ff&quot;, &quot;dashArray&quot;: null, &quot;dashOffset&quot;: null, &quot;fill&quot;: false, &quot;fillColor&quot;: &quot;#3388ff&quot;, &quot;fillOpacity&quot;: 0.2, &quot;fillRule&quot;: &quot;evenodd&quot;, &quot;lineCap&quot;: &quot;round&quot;, &quot;lineJoin&quot;: &quot;round&quot;, &quot;noClip&quot;: false, &quot;opacity&quot;: 1.0, &quot;smoothFactor&quot;: 1.0, &quot;stroke&quot;: true, &quot;weight&quot;: 3}\n",
              "            ).addTo(map_c6a1cf8b8b08502cd256c6c702fbc882);\n",
              "        \n",
              "    \n",
              "            poly_line_74466aa8a896c640b8833dc821c07121.bindTooltip(\n",
              "                `&lt;div&gt;\n",
              "                     Actual Trajectory\n",
              "                 &lt;/div&gt;`,\n",
              "                {&quot;sticky&quot;: true}\n",
              "            );\n",
              "        \n",
              "    \n",
              "            var poly_line_f7d27aedaa46a2ca9a87ecb986b749b4 = L.polyline(\n",
              "                [[38.0682258605957, 130.9042205810547], [38.11663055419922, 130.94677734375], [38.17304611206055, 130.99513244628906], [38.23795700073242, 131.04937744140625], [38.31178283691406, 131.10955810546875], [38.394866943359375, 131.17564392089844], [38.353538513183594, 131.02398681640625], [37.844146728515625, 130.40333557128906], [37.409629821777344, 129.8820037841797], [37.30573272705078, 129.6990203857422], [38.25886917114258, 130.75741577148438], [39.47105407714844, 132.05828857421875], [40.11649703979492, 132.53416442871094], [40.038734436035156, 132.361328125], [38.8235969543457, 130.82408142089844], [39.285682678222656, 131.38327026367188], [39.87624740600586, 132.14785766601562], [40.1500358581543, 132.50794982910156], [40.19456100463867, 132.56788635253906], [40.19456100463867, 132.56788635253906], [40.19456100463867, 132.56788635253906], [40.19456100463867, 132.56788635253906], [40.19456100463867, 132.56788635253906], [40.06443405151367, 132.39508056640625], [40.17889404296875, 132.54681396484375], [39.77685546875, 132.01817321777344], [38.99822235107422, 131.039306640625], [38.30012130737305, 130.18296813964844], [37.48351287841797, 129.254638671875], [37.798973083496094, 129.59805297851562]],\n",
              "                {&quot;bubblingMouseEvents&quot;: true, &quot;color&quot;: &quot;red&quot;, &quot;dashArray&quot;: null, &quot;dashOffset&quot;: null, &quot;fill&quot;: false, &quot;fillColor&quot;: &quot;red&quot;, &quot;fillOpacity&quot;: 0.2, &quot;fillRule&quot;: &quot;evenodd&quot;, &quot;lineCap&quot;: &quot;round&quot;, &quot;lineJoin&quot;: &quot;round&quot;, &quot;noClip&quot;: false, &quot;opacity&quot;: 1.0, &quot;smoothFactor&quot;: 1.0, &quot;stroke&quot;: true, &quot;weight&quot;: 3}\n",
              "            ).addTo(map_c6a1cf8b8b08502cd256c6c702fbc882);\n",
              "        \n",
              "    \n",
              "            poly_line_f7d27aedaa46a2ca9a87ecb986b749b4.bindTooltip(\n",
              "                `&lt;div&gt;\n",
              "                     Predicted Trajectory\n",
              "                 &lt;/div&gt;`,\n",
              "                {&quot;sticky&quot;: true}\n",
              "            );\n",
              "        \n",
              "&lt;/script&gt;\" style=\"position:absolute;width:100%;height:100%;left:0;top:0;border:none !important;\" allowfullscreen webkitallowfullscreen mozallowfullscreen></iframe></div></div>"
            ]
          },
          "metadata": {},
          "execution_count": 46
        }
      ]
    }
  ]
}